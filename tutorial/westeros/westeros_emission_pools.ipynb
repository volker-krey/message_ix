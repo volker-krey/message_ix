{
 "cells": [
  {
   "cell_type": "markdown",
   "metadata": {},
   "source": [
    "# Westeros Tutorial - Introducing emissions (part1/2): Adding emission bounds\n",
    "\n",
    "In the first part, the model chose not base the power system on wind power as electricity from  wind turbines was more expensive than electricity produced from coal. However, now we introduce emissions to investigate the impact of climate policy. Let's see what happens then.\n",
    "\n",
    "**Pre-requisites**\n",
    "- You have the *MESSAGEix* framework installed and working\n",
    "- You have run Westeros baseline scenario (``westeros_baseline.ipynb``) and solved it successfully"
   ]
  },
  {
   "cell_type": "code",
   "execution_count": 1,
   "metadata": {},
   "outputs": [
    {
     "data": {
      "application/javascript": [
       "IPython.OutputArea.prototype._should_scroll = function(lines) { return false; }"
      ],
      "text/plain": [
       "<IPython.core.display.Javascript object>"
      ]
     },
     "metadata": {},
     "output_type": "display_data"
    }
   ],
   "source": [
    "import pandas as pd\n",
    "import ixmp\n",
    "import message_ix\n",
    "\n",
    "from message_ix.util import make_df\n",
    "\n",
    "%matplotlib inline"
   ]
  },
  {
   "cell_type": "code",
   "execution_count": 2,
   "metadata": {},
   "outputs": [],
   "source": [
    "mp = ixmp.Platform()"
   ]
  },
  {
   "cell_type": "code",
   "execution_count": 3,
   "metadata": {},
   "outputs": [],
   "source": [
    "model = 'Westeros Electrified'\n",
    "\n",
    "base = message_ix.Scenario(mp, model=model, scenario='baseline')\n",
    "scen = base.clone(model, 'emission_pool_test','introducing an upper bound on emissions',\n",
    "                  keep_solution=False)\n",
    "scen.check_out()"
   ]
  },
  {
   "cell_type": "code",
   "execution_count": 4,
   "metadata": {},
   "outputs": [],
   "source": [
    "year_df = scen.vintage_and_active_years()\n",
    "vintage_years, act_years = year_df['year_vtg'], year_df['year_act']\n",
    "model_horizon = scen.set('year')\n",
    "country = 'Westeros'"
   ]
  },
  {
   "cell_type": "markdown",
   "metadata": {},
   "source": [
    "## Introducing Emissions"
   ]
  },
  {
   "cell_type": "code",
   "execution_count": 5,
   "metadata": {},
   "outputs": [],
   "source": [
    "# first we introduce the emission of CO2 and the emission category GHG\n",
    "scen.add_set('emission', 'CO2')\n",
    "scen.add_cat('emission', 'GHG', 'CO2')\n",
    "\n",
    "# we now add CO2 emissions to the coal powerplant\n",
    "base_emission_factor = {\n",
    "    'node_loc': country,\n",
    "    'year_vtg': vintage_years,\n",
    "    'year_act': act_years,\n",
    "    'mode': 'standard',\n",
    "    'unit': 'tCO2/kWa',\n",
    "}\n",
    "\n",
    "# adding new units to the model library (needed only once)\n",
    "mp.add_unit('tCO2/kWa')\n",
    "mp.add_unit('MtCO2')\n",
    "\n",
    "emission_factor = make_df(base_emission_factor, technology= 'coal_ppl', emission= 'CO2', value = 7.4)\n",
    "scen.add_par('emission_factor', emission_factor)"
   ]
  },
  {
   "cell_type": "markdown",
   "metadata": {},
   "source": [
    "## Define a Bound on Emissions\n",
    "\n",
    "The `type_year: cumulative` assigns an upper bound on the *weighted average of emissions* over the entire time horizon."
   ]
  },
  {
   "cell_type": "code",
   "execution_count": 6,
   "metadata": {},
   "outputs": [],
   "source": [
    "scen.add_par('bound_emission', [country, 'GHG', 'all', 'cumulative'],\n",
    "             value=500., unit='MtCO2')"
   ]
  },
  {
   "cell_type": "markdown",
   "metadata": {},
   "source": [
    "## Add GHG poolsize for historical period 690"
   ]
  },
  {
   "cell_type": "code",
   "execution_count": 7,
   "metadata": {},
   "outputs": [],
   "source": [
    "scen.add_set('type_year', 690)\n",
    "scen.add_set('cat_year', pd.DataFrame({'type_year': [690], 'year': 690}))\n",
    "df = pd.DataFrame({\n",
    "    'node': 'Westeros',\n",
    "    'emission': 'CO2',\n",
    "    'type_tec': 'all',\n",
    "    'year': 690,\n",
    "    'value': [100000],\n",
    "    'unit': 'MtCO2'\n",
    "})\n",
    "scen.add_par('historical_emission_pool', df)"
   ]
  },
  {
   "cell_type": "markdown",
   "metadata": {},
   "source": [
    "## Add sinkrate for model-periods"
   ]
  },
  {
   "cell_type": "code",
   "execution_count": 8,
   "metadata": {},
   "outputs": [],
   "source": [
    "df = pd.DataFrame({\n",
    "    'node': 'Westeros',\n",
    "    'emission': 'CO2',\n",
    "    'type_tec': 'all',\n",
    "    'year': [700, 710, 720],\n",
    "    'value': [0.02, 0.01, 0.005],\n",
    "    'unit': '???'\n",
    "})\n",
    "scen.add_par('emission_sink_rate', df)"
   ]
  },
  {
   "cell_type": "code",
   "execution_count": 9,
   "metadata": {},
   "outputs": [],
   "source": [
    "case = \"carbon_pool_accounting\""
   ]
  },
  {
   "cell_type": "markdown",
   "metadata": {},
   "source": [
    "## OPTIONAL: Add `tax_emission_pool`"
   ]
  },
  {
   "cell_type": "code",
   "execution_count": 10,
   "metadata": {},
   "outputs": [],
   "source": [
    "add_tep = False\n",
    "if add_tep:\n",
    "    df = pd.DataFrame({\n",
    "        'node': 'Westeros',\n",
    "        'type_emission': 'GHG',\n",
    "        'type_tec': 'all',\n",
    "        'year': [700, 710, 720],\n",
    "        'value': [0.0378193, 0, 0.04868423],\n",
    "        'unit': '???'\n",
    "    })\n",
    "    scen.add_par('tax_emission_pool', df) \n",
    "    case = \"tax_emission\""
   ]
  },
  {
   "cell_type": "markdown",
   "metadata": {},
   "source": [
    "## OPTIONAL: Add `tax_emission_pool` for node `World`"
   ]
  },
  {
   "cell_type": "code",
   "execution_count": 11,
   "metadata": {},
   "outputs": [],
   "source": [
    "add_tep_wrld = False\n",
    "if add_tep_wrld: \n",
    "    scen.add_set('type_emission', 'CO2')\n",
    "    scen.add_cat('emission', 'CO2', 'CO2')\n",
    "    \n",
    "    for par in ['emission_sink_rate', 'historical_emission_pool']:\n",
    "        df = scen.par(par)\n",
    "        df[\"node\"] = 'World'\n",
    "        scen.add_par(par, df)     \n",
    "    \n",
    "    df = pd.DataFrame({\n",
    "        'node': 'World',\n",
    "        'type_emission': 'CO2',\n",
    "        'type_tec': 'all',\n",
    "        'year': [700, 710, 720],\n",
    "        'value': [500, 500, 500],\n",
    "        'unit': '???'\n",
    "    })\n",
    "    scen.add_par('tax_emission_pool', df) \n",
    "    case = \"tax_emission_world\""
   ]
  },
  {
   "cell_type": "markdown",
   "metadata": {},
   "source": [
    "## OPTIONAL: Add `bound_emission_pool`"
   ]
  },
  {
   "cell_type": "code",
   "execution_count": 12,
   "metadata": {},
   "outputs": [],
   "source": [
    "add_epb = True\n",
    "if add_epb:\n",
    "    df = pd.DataFrame({\n",
    "        'node': 'Westeros',\n",
    "        'type_emission': 'GHG',\n",
    "        'type_tec': 'all',\n",
    "        'year': [700, 710, 720],\n",
    "        'value': [87000, 86000, 85000],\n",
    "        'unit': '???'\n",
    "    })\n",
    "    scen.add_par('bound_emission_pool', df)\n",
    "            \n",
    "    # Remove bound_emission\n",
    "    df = scen.par('bound_emission')\n",
    "    scen.remove_par('bound_emission', df)\n",
    "    case = \"bound_emission\""
   ]
  },
  {
   "cell_type": "code",
   "execution_count": null,
   "metadata": {},
   "outputs": [],
   "source": []
  },
  {
   "cell_type": "markdown",
   "metadata": {},
   "source": [
    "## Time to Solve the Model"
   ]
  },
  {
   "cell_type": "code",
   "execution_count": 13,
   "metadata": {},
   "outputs": [],
   "source": [
    "scen.commit(comment='introducing emissions and setting an upper bound')\n",
    "scen.set_as_default()"
   ]
  },
  {
   "cell_type": "code",
   "execution_count": 14,
   "metadata": {},
   "outputs": [],
   "source": [
    "scen.solve(var_list=['EMISS_POOL', 'PRICE_EMISSION_POOL'], case=case)"
   ]
  },
  {
   "cell_type": "code",
   "execution_count": 15,
   "metadata": {},
   "outputs": [
    {
     "data": {
      "text/plain": [
       "221792.71875"
      ]
     },
     "execution_count": 15,
     "metadata": {},
     "output_type": "execute_result"
    }
   ],
   "source": [
    "scen.var('OBJ')['lvl']"
   ]
  },
  {
   "cell_type": "markdown",
   "metadata": {},
   "source": [
    "## Checking Results"
   ]
  },
  {
   "cell_type": "code",
   "execution_count": 16,
   "metadata": {},
   "outputs": [],
   "source": [
    "#    WITHOUT any constraints EMISS_POOL should have results:\n",
    "#    700 86254.747976\n",
    "#    710 83581.678489\n",
    "#    720 85134.173863 \n",
    "    \n",
    "#    WITH `tax_emission_pool' EMISS_POOL should have results:\n",
    "#    700 85154.242090\n",
    "#    710 78031.405954\n",
    "#    720 74315.624718\n",
    "\n",
    "#    WITH `bound_emission_pool' EMISS_POOL should have results:\n",
    "#    700 87000\n",
    "#    710 85975.299326\n",
    "#    720 85000"
   ]
  },
  {
   "cell_type": "code",
   "execution_count": 17,
   "metadata": {},
   "outputs": [
    {
     "data": {
      "text/html": [
       "<div>\n",
       "<style scoped>\n",
       "    .dataframe tbody tr th:only-of-type {\n",
       "        vertical-align: middle;\n",
       "    }\n",
       "\n",
       "    .dataframe tbody tr th {\n",
       "        vertical-align: top;\n",
       "    }\n",
       "\n",
       "    .dataframe thead th {\n",
       "        text-align: right;\n",
       "    }\n",
       "</style>\n",
       "<table border=\"1\" class=\"dataframe\">\n",
       "  <thead>\n",
       "    <tr style=\"text-align: right;\">\n",
       "      <th></th>\n",
       "      <th>node</th>\n",
       "      <th>emission</th>\n",
       "      <th>type_tec</th>\n",
       "      <th>year</th>\n",
       "      <th>lvl</th>\n",
       "      <th>mrg</th>\n",
       "    </tr>\n",
       "  </thead>\n",
       "  <tbody>\n",
       "    <tr>\n",
       "      <th>0</th>\n",
       "      <td>Westeros</td>\n",
       "      <td>CO2</td>\n",
       "      <td>all</td>\n",
       "      <td>700</td>\n",
       "      <td>86254.747976</td>\n",
       "      <td>0.0</td>\n",
       "    </tr>\n",
       "    <tr>\n",
       "      <th>1</th>\n",
       "      <td>Westeros</td>\n",
       "      <td>CO2</td>\n",
       "      <td>all</td>\n",
       "      <td>710</td>\n",
       "      <td>83545.115216</td>\n",
       "      <td>0.0</td>\n",
       "    </tr>\n",
       "    <tr>\n",
       "      <th>2</th>\n",
       "      <td>Westeros</td>\n",
       "      <td>CO2</td>\n",
       "      <td>all</td>\n",
       "      <td>720</td>\n",
       "      <td>85000.000000</td>\n",
       "      <td>0.0</td>\n",
       "    </tr>\n",
       "  </tbody>\n",
       "</table>\n",
       "</div>"
      ],
      "text/plain": [
       "       node emission type_tec  year           lvl  mrg\n",
       "0  Westeros      CO2      all   700  86254.747976  0.0\n",
       "1  Westeros      CO2      all   710  83545.115216  0.0\n",
       "2  Westeros      CO2      all   720  85000.000000  0.0"
      ]
     },
     "execution_count": 17,
     "metadata": {},
     "output_type": "execute_result"
    }
   ],
   "source": [
    "scen.var('EMISS_POOL')"
   ]
  },
  {
   "cell_type": "code",
   "execution_count": 18,
   "metadata": {},
   "outputs": [
    {
     "data": {
      "text/html": [
       "<div>\n",
       "<style scoped>\n",
       "    .dataframe tbody tr th:only-of-type {\n",
       "        vertical-align: middle;\n",
       "    }\n",
       "\n",
       "    .dataframe tbody tr th {\n",
       "        vertical-align: top;\n",
       "    }\n",
       "\n",
       "    .dataframe thead th {\n",
       "        text-align: right;\n",
       "    }\n",
       "</style>\n",
       "<table border=\"1\" class=\"dataframe\">\n",
       "  <thead>\n",
       "    <tr style=\"text-align: right;\">\n",
       "      <th></th>\n",
       "      <th>node</th>\n",
       "      <th>type_emission</th>\n",
       "      <th>type_tec</th>\n",
       "      <th>year</th>\n",
       "      <th>lvl</th>\n",
       "      <th>mrg</th>\n",
       "    </tr>\n",
       "  </thead>\n",
       "  <tbody>\n",
       "    <tr>\n",
       "      <th>0</th>\n",
       "      <td>Westeros</td>\n",
       "      <td>GHG</td>\n",
       "      <td>all</td>\n",
       "      <td>720</td>\n",
       "      <td>33.075572</td>\n",
       "      <td>0.0</td>\n",
       "    </tr>\n",
       "  </tbody>\n",
       "</table>\n",
       "</div>"
      ],
      "text/plain": [
       "       node type_emission type_tec  year        lvl  mrg\n",
       "0  Westeros           GHG      all   720  33.075572  0.0"
      ]
     },
     "execution_count": 18,
     "metadata": {},
     "output_type": "execute_result"
    }
   ],
   "source": [
    "scen.var('PRICE_EMISSION_POOL')"
   ]
  },
  {
   "cell_type": "markdown",
   "metadata": {},
   "source": [
    "## Close the connection to the database"
   ]
  },
  {
   "cell_type": "code",
   "execution_count": 19,
   "metadata": {},
   "outputs": [],
   "source": [
    "mp.close_db()"
   ]
  }
 ],
 "metadata": {
  "kernelspec": {
   "display_name": "Python 3",
   "language": "python",
   "name": "python3"
  },
  "language_info": {
   "codemirror_mode": {
    "name": "ipython",
    "version": 3
   },
   "file_extension": ".py",
   "mimetype": "text/x-python",
   "name": "python",
   "nbconvert_exporter": "python",
   "pygments_lexer": "ipython3",
   "version": "3.7.9"
  }
 },
 "nbformat": 4,
 "nbformat_minor": 2
}
