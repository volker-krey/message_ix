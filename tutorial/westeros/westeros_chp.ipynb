{
 "cells": [
  {
   "cell_type": "markdown",
   "metadata": {},
   "source": [
    "# Westeros Tutorial Part X - Introducing combined heat and power (CHP)\n",
    "\n",
    "In the first part of the Westeros tutorial, only a single secondary energy carrier - electricity - was produced to satisfy the service demand for lighting. Here we add a second demand for heating and introduce combined heat and power (CHP) to the coal power plant as an option to produce heat. "
   ]
  },
  {
   "cell_type": "code",
   "execution_count": null,
   "metadata": {},
   "outputs": [],
   "source": [
    "import pandas as pd\n",
    "import ixmp\n",
    "import message_ix\n",
    "\n",
    "from message_ix.utils import make_df\n",
    "\n",
    "%matplotlib inline"
   ]
  },
  {
   "cell_type": "code",
   "execution_count": null,
   "metadata": {},
   "outputs": [],
   "source": [
    "mp = ixmp.Platform(dbtype = 'HSQLDB')"
   ]
  },
  {
   "cell_type": "code",
   "execution_count": null,
   "metadata": {},
   "outputs": [],
   "source": [
    "model = 'Westeros Electrified'\n",
    "\n",
    "base = message_ix.Scenario(mp, model=model, scenario='baseline')\n",
    "scen = base.clone(model, 'chp','introducing a heat demand and combined heat and power (CHP)',\n",
    "                  keep_solution=False)\n",
    "scen.check_out()"
   ]
  },
  {
   "cell_type": "code",
   "execution_count": null,
   "metadata": {},
   "outputs": [],
   "source": [
    "year_df = scen.vintage_and_active_years()\n",
    "vintage_years, act_years = year_df['year_vtg'], year_df['year_act']\n",
    "model_horizon = scen.set('year')\n",
    "country = 'Westeros'"
   ]
  },
  {
   "cell_type": "markdown",
   "metadata": {},
   "source": [
    "## Adding heat demand"
   ]
  },
  {
   "cell_type": "code",
   "execution_count": null,
   "metadata": {},
   "outputs": [],
   "source": [
    "# first we introduce a new commodity heat and introduce a demand for it\n",
    "scen.add_set('commodity', 'heat')\n",
    "\n",
    "# obtain model horizon from baseline model \n",
    "model_horizon = [700, 710, 720]\n",
    "\n",
    "# generate heat demand time series at 10% of lighting demand (see Westeros baseline tutorial)\n",
    "heat_profile = pd.Series([10, 15, 19],\n",
    "                        index=pd.Index(model_horizon, name='Time'))\n",
    "\n",
    "# create data frame for heat demand parameter \n",
    "heat_demand = pd.DataFrame({\n",
    "        'node': country,\n",
    "        'commodity': 'heat',\n",
    "        'level': 'secondary',\n",
    "        'year': model_horizon,\n",
    "        'time': 'year',\n",
    "        'value': (heat_profile).round(),\n",
    "        'unit': 'GWa',\n",
    "    })\n",
    "\n",
    "# add new demand via add_par to a MESSAGEix\n",
    "scen.add_par(\"demand\", heat_demand)"
   ]
  },
  {
   "cell_type": "code",
   "execution_count": null,
   "metadata": {},
   "outputs": [],
   "source": [
    "# add a second operating mode for the coal power plant that allows varying the ratio of electricity to heat produced\n",
    "scen.add_set(\"mode\", \"max_heat\")\n",
    "\n",
    "year_df = scen.vintage_and_active_years()\n",
    "vintage_years, act_years = year_df['year_vtg'], year_df['year_act']\n",
    "\n",
    "# Add output coefficients for electricity and hear to the second operating mode of the coal powerplant\n",
    "\n",
    "base_output = {\n",
    "    'node_loc': country,\n",
    "    'node_dest': country,\n",
    "    'technology': 'coal_ppl',\n",
    "    'year_vtg': vintage_years,\n",
    "    'year_act': act_years,\n",
    "    'mode': 'standard',\n",
    "    'time': 'year',\n",
    "    'time_dest': 'year',\n",
    "    'level': 'secondary', \n",
    "    'unit': '-',\n",
    "}\n",
    "\n",
    "# electric efficiency is reduced to about 32% (from about 40% in standard operation mode without heat geenration) with total efficiency going up to about 85%\n",
    "coal_out_elc = make_df(base_output, commodity='electricity', value=0.8)\n",
    "coal_out_heat = make_df(base_output, commodity='heat', value=1.3)\n",
    "\n",
    "scen.add_par('output', coal_out_elc)\n",
    "scen.add_par('output', coal_out_heat)"
   ]
  },
  {
   "cell_type": "markdown",
   "metadata": {},
   "source": []
  },
  {
   "cell_type": "code",
   "execution_count": null,
   "metadata": {},
   "outputs": [],
   "source": [
    "# Adding CO2 emissions to the second operating mode of the coal powerplant\n",
    "#emission_factor = {\n",
    "#    'node_loc': country,\n",
    "#    'technology': 'coal_ppl',\n",
    "#    'year_vtg': vintage_years,\n",
    "#    'year_act': act_years,\n",
    "#    'mode': 'max_heat',\n",
    "#    'unit': 'tCO2/kWa',\n",
    "#    'value': 7.4,    \n",
    "#}\n",
    "\n",
    "# Adding variable costs (incl. fuel costs) to the second operating mode of the coal powerplant\n",
    "var_cost = {\n",
    "    'node_loc': country,\n",
    "    'technology': 'coal_ppl',\n",
    "    'year_vtg': vintage_years,\n",
    "    'year_act': act_years,\n",
    "    'mode': 'max_heat',\n",
    "    'time': 'year',\n",
    "    'unit': 'USD/kWa',\n",
    "    'value': 30,\n",
    "}\n",
    "\n",
    "#scen.add_par('emission_factor', emission_factor)\n",
    "scen.add_par('var_cost', var_cost)"
   ]
  },
  {
   "cell_type": "markdown",
   "metadata": {},
   "source": [
    "## Time to Solve the Model"
   ]
  },
  {
   "cell_type": "code",
   "execution_count": null,
   "metadata": {},
   "outputs": [],
   "source": [
    "scen.commit(comment='introducing a heat demand and combined heat and power (CHP)')\n",
    "scen.set_as_default()"
   ]
  },
  {
   "cell_type": "code",
   "execution_count": null,
   "metadata": {},
   "outputs": [],
   "source": [
    "scen.solve()"
   ]
  },
  {
   "cell_type": "code",
   "execution_count": null,
   "metadata": {},
   "outputs": [],
   "source": [
    "scen.var('OBJ')['lvl']"
   ]
  },
  {
   "cell_type": "markdown",
   "metadata": {},
   "source": [
    "## Plotting Results"
   ]
  },
  {
   "cell_type": "code",
   "execution_count": null,
   "metadata": {},
   "outputs": [],
   "source": [
    "from tools import Plots\n",
    "p = Plots(scen, country, firstyear=700)"
   ]
  },
  {
   "cell_type": "markdown",
   "metadata": {},
   "source": [
    "### Activity\n",
    "\n",
    "How much energy is generated in each time period from the different potential sources?"
   ]
  },
  {
   "cell_type": "code",
   "execution_count": null,
   "metadata": {},
   "outputs": [],
   "source": [
    "p.plot_activity(baseyear=True, subset=['coal_ppl', 'wind_ppl'])"
   ]
  },
  {
   "cell_type": "markdown",
   "metadata": {},
   "source": [
    "### Capacity\n",
    "\n",
    "How much capacity of each plant is installed in each period?"
   ]
  },
  {
   "cell_type": "code",
   "execution_count": null,
   "metadata": {},
   "outputs": [],
   "source": [
    "p.plot_capacity(baseyear=True, subset=['coal_ppl', 'wind_ppl'])"
   ]
  },
  {
   "cell_type": "markdown",
   "metadata": {},
   "source": [
    "### Heat Price\n",
    "\n",
    "And how much does the heat cost? These prices are in fact **shadow prices** taken from the **dual variables** of the model solution. They reflect the marginal cost of electricity generation (i.e., the additional cost of the system for supplying one more unit of electricity), which is in fact the marginal cost of the most expensive generator.  \n",
    "\n",
    "Note the price drop when the most expensive technology is no longer in the system."
   ]
  },
  {
   "cell_type": "code",
   "execution_count": null,
   "metadata": {},
   "outputs": [],
   "source": [
    "p.plot_prices(subset=['heat'], baseyear=True)"
   ]
  },
  {
   "cell_type": "markdown",
   "metadata": {},
   "source": [
    "## Close the connection to the database"
   ]
  },
  {
   "cell_type": "code",
   "execution_count": null,
   "metadata": {},
   "outputs": [],
   "source": [
    "mp.close_db()"
   ]
  },
  {
   "cell_type": "code",
   "execution_count": null,
   "metadata": {},
   "outputs": [],
   "source": []
  }
 ],
 "metadata": {
  "kernelspec": {
   "display_name": "Python 3",
   "language": "python",
   "name": "python3"
  },
  "language_info": {
   "codemirror_mode": {
    "name": "ipython",
    "version": 3
   },
   "file_extension": ".py",
   "mimetype": "text/x-python",
   "name": "python",
   "nbconvert_exporter": "python",
   "pygments_lexer": "ipython3",
   "version": "3.7.4"
  }
 },
 "nbformat": 4,
 "nbformat_minor": 2
}
